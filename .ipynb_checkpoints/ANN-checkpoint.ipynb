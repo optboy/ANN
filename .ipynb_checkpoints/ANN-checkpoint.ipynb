{
 "cells": [
  {
   "cell_type": "code",
   "execution_count": 49,
   "metadata": {},
   "outputs": [],
   "source": [
    "from matplotlib import pyplot\n",
    "import matplotlib.pyplot as plt\n",
    "\n",
    "import torch\n",
    "\n",
    "import torch.nn.functional as F\n",
    "import torch.optim as optim\n",
    "\n",
    "from torch import nn\n",
    "from torch.autograd import Variable\n",
    "from torch.utils.data import DataLoader, TensorDataset\n",
    "\n",
    "import numpy as np\n",
    "import pandas as pd\n",
    "\n",
    "import math\n",
    "import cv2\n",
    "import re"
   ]
  },
  {
   "cell_type": "code",
   "execution_count": 50,
   "metadata": {},
   "outputs": [],
   "source": [
    "files = [open('all_train.txt', 'r'), open('all_test1.txt', 'r'), open('all_test2.txt', 'r')]"
   ]
  },
  {
   "cell_type": "code",
   "execution_count": 51,
   "metadata": {},
   "outputs": [],
   "source": [
    "lable_dic = {'straight' : 0, 'up':1, 'left': 2, 'right': 3}\n",
    "\n",
    "X_l = []\n",
    "y_l = []\n",
    "for file in files:\n",
    "    paths = []\n",
    "    y = []\n",
    "    for line in file.readlines():\n",
    "        path = '.'\n",
    "        for s in line[:-1].split('/')[-3:]:\n",
    "            path += '/'+ s\n",
    "        paths.append(path)\n",
    "\n",
    "        lable = line.split('_')[1]\n",
    "        y.append(lable_dic[lable])\n",
    "\n",
    "    x = []\n",
    "    for path in paths:\n",
    "        img = cv2.imread(path, 0).flatten()\n",
    "        x.append(img)\n",
    "    x = np.array(x)\n",
    "    \n",
    "    X_l.append(x)\n",
    "    y_l.append(y)"
   ]
  },
  {
   "cell_type": "code",
   "execution_count": 52,
   "metadata": {},
   "outputs": [],
   "source": [
    "X_t_l = []\n",
    "y_t_l = []\n",
    "for X,y in zip(X_l,y_l):\n",
    "    X_t, y_t = map(torch.tensor, (X, y))\n",
    "    X_t = X_t.type(torch.float)\n",
    "    X_t = X_t/255\n",
    "    y_t = y_t.type(torch.long)\n",
    "    \n",
    "    X_t_l.append(X_t)\n",
    "    y_t_l.append(y_t)"
   ]
  },
  {
   "cell_type": "code",
   "execution_count": 53,
   "metadata": {},
   "outputs": [],
   "source": [
    "x_train, x_test_1, x_test_2 = X_t_l\n",
    "y_train, y_test_1, y_test_2 = y_t_l"
   ]
  },
  {
   "cell_type": "code",
   "execution_count": 54,
   "metadata": {},
   "outputs": [],
   "source": [
    "train = TensorDataset(x_train, y_train)"
   ]
  },
  {
   "cell_type": "code",
   "execution_count": 55,
   "metadata": {},
   "outputs": [],
   "source": [
    "train_loader = DataLoader(train, batch_size=120, shuffle=True)"
   ]
  },
  {
   "cell_type": "code",
   "execution_count": 56,
   "metadata": {},
   "outputs": [],
   "source": [
    "class Net(nn.Module):\n",
    "    def __init__(self, unit=3):\n",
    "        super(Net,self).__init__()\n",
    "        self.fc1 = nn.Linear(960,unit)\n",
    "        self.fc2 = nn.Linear(unit,4)\n",
    "        \n",
    "    def forward(self, x):\n",
    "        x = self.fc1(x)\n",
    "        x = self.fc2(x)\n",
    "        return F.sigmoid(x)\n",
    "    \n",
    "model = Net()"
   ]
  },
  {
   "cell_type": "code",
   "execution_count": 57,
   "metadata": {
    "scrolled": true
   },
   "outputs": [
    {
     "name": "stderr",
     "output_type": "stream",
     "text": [
      "/Users/hyunwoo/anaconda3/envs/optlab/lib/python3.7/site-packages/torch/nn/functional.py:1569: UserWarning: nn.functional.sigmoid is deprecated. Use torch.sigmoid instead.\n",
      "  warnings.warn(\"nn.functional.sigmoid is deprecated. Use torch.sigmoid instead.\")\n"
     ]
    },
    {
     "name": "stdout",
     "output_type": "stream",
     "text": [
      "10 tensor(3.7236)\n",
      "20 tensor(3.4384)\n",
      "30 tensor(3.2277)\n",
      "40 tensor(3.0178)\n",
      "50 tensor(2.9339)\n",
      "60 tensor(2.8250)\n",
      "70 tensor(2.7633)\n",
      "80 tensor(2.6572)\n",
      "90 tensor(2.6609)\n",
      "100 tensor(2.5883)\n"
     ]
    }
   ],
   "source": [
    "criterion = nn.CrossEntropyLoss()\n",
    "optimizer = optim.SGD(model.parameters(), lr=0.3, momentum = 0.3)\n",
    "\n",
    "hidden_weight_l = []\n",
    "for epoch in range(100):\n",
    "    total_loss = 0\n",
    "    \n",
    "    for train_x, train_y in train_loader:\n",
    "        hidden_weight_l.append([float(i[0]) for i in model.fc2.weight])\n",
    "        # 계산 그래프 구성\n",
    "        train_x, train_y = Variable(train_x), Variable(train_y)\n",
    "        # 경사 초기화\n",
    "        optimizer.zero_grad()\n",
    "        # 순전파 계산\n",
    "        output = model(train_x)\n",
    "        # 오차계산\n",
    "        loss = criterion(output, train_y)\n",
    "        # 역전파 계산\n",
    "        loss.backward()\n",
    "        # 가중치 업데이트\n",
    "        optimizer.step()\n",
    "        # 누적 오차 계산\n",
    "        total_loss += loss.data\n",
    "        \n",
    "    if (epoch+1)%10 == 0:\n",
    "        print(epoch+1, total_loss)"
   ]
  },
  {
   "cell_type": "code",
   "execution_count": 58,
   "metadata": {},
   "outputs": [],
   "source": [
    "x_test_1, y_test_1 = Variable(x_test_1), Variable(y_test_1)"
   ]
  },
  {
   "cell_type": "code",
   "execution_count": 59,
   "metadata": {},
   "outputs": [],
   "source": [
    "result = torch.max(model(x_test_1).data, 1)[1]"
   ]
  },
  {
   "cell_type": "code",
   "execution_count": 60,
   "metadata": {},
   "outputs": [
    {
     "data": {
      "text/plain": [
       "torch.Size([139, 960])"
      ]
     },
     "execution_count": 60,
     "metadata": {},
     "output_type": "execute_result"
    }
   ],
   "source": [
    "x_test_1.shape"
   ]
  },
  {
   "cell_type": "code",
   "execution_count": 61,
   "metadata": {},
   "outputs": [
    {
     "data": {
      "text/plain": [
       "tensor([1, 2, 2, 3, 3, 0, 2, 0, 0, 1, 3, 2, 1, 1, 0, 1, 3, 3, 0, 0, 2, 1, 1, 2,\n",
       "        3, 1, 2, 0, 1, 2, 3, 0, 1, 0, 3, 0, 0, 3, 0, 2, 0, 3, 2, 0, 2, 0, 1, 2,\n",
       "        0, 1, 0, 1, 1, 0, 1, 0, 0, 1, 0, 0, 1, 1, 3, 1, 1, 3, 2, 2, 1, 1, 1, 1,\n",
       "        3, 1, 3, 2, 1, 1, 0, 3, 3, 2, 1, 1, 2, 3, 0, 1, 1, 0, 3, 2, 3, 2, 3, 1,\n",
       "        1, 2, 3, 0, 2, 0, 2, 3, 0, 2, 2, 2, 2, 2, 3, 3, 1, 3, 2, 2, 1, 3, 2, 1,\n",
       "        1, 2, 1, 0, 2, 1, 2, 0, 2, 0, 3, 0, 1, 0, 1, 0, 1, 0, 1])"
      ]
     },
     "execution_count": 61,
     "metadata": {},
     "output_type": "execute_result"
    }
   ],
   "source": [
    "result"
   ]
  },
  {
   "cell_type": "code",
   "execution_count": 62,
   "metadata": {
    "scrolled": true
   },
   "outputs": [
    {
     "data": {
      "text/plain": [
       "tensor([1, 1, 2, 3, 3, 0, 2, 0, 0, 1, 3, 2, 0, 0, 0, 1, 3, 1, 0, 0, 2, 1, 1, 2,\n",
       "        3, 1, 2, 0, 0, 2, 3, 1, 1, 0, 1, 0, 3, 3, 1, 2, 0, 3, 2, 0, 1, 1, 1, 2,\n",
       "        0, 2, 0, 1, 1, 1, 0, 0, 0, 1, 2, 0, 1, 1, 3, 0, 1, 3, 2, 2, 1, 1, 3, 1,\n",
       "        3, 1, 3, 2, 0, 1, 0, 3, 3, 2, 1, 1, 0, 3, 0, 1, 1, 0, 3, 2, 3, 2, 3, 1,\n",
       "        1, 2, 3, 0, 2, 0, 2, 3, 0, 2, 2, 2, 2, 2, 3, 3, 0, 3, 2, 2, 1, 3, 2, 0,\n",
       "        1, 2, 0, 0, 2, 1, 2, 0, 2, 0, 3, 0, 1, 0, 1, 0, 1, 0, 1])"
      ]
     },
     "execution_count": 62,
     "metadata": {},
     "output_type": "execute_result"
    }
   ],
   "source": [
    "y_test_1"
   ]
  },
  {
   "cell_type": "markdown",
   "metadata": {},
   "source": [
    "# Assignment 1"
   ]
  },
  {
   "cell_type": "code",
   "execution_count": 63,
   "metadata": {},
   "outputs": [],
   "source": [
    "accuracy = sum(y_test_1.data.numpy() == result.numpy()) / len(y_test_1.data.numpy())"
   ]
  },
  {
   "cell_type": "code",
   "execution_count": 64,
   "metadata": {},
   "outputs": [
    {
     "data": {
      "text/plain": [
       "0.841726618705036"
      ]
     },
     "execution_count": 64,
     "metadata": {},
     "output_type": "execute_result"
    }
   ],
   "source": [
    "accuracy"
   ]
  },
  {
   "cell_type": "markdown",
   "metadata": {},
   "source": [
    "# Assignment 2"
   ]
  },
  {
   "cell_type": "code",
   "execution_count": 65,
   "metadata": {},
   "outputs": [
    {
     "data": {
      "image/png": "[encoded data removed]",
      "text/plain": [
       "<Figure size 432x288 with 1 Axes>"
      ]
     },
     "metadata": {
      "needs_background": "light"
     },
     "output_type": "display_data"
    }
   ],
   "source": [
    "for i in range(4):\n",
    "    plt.plot([step[i] for step in hidden_weight_l], label=f'{list(lable_dic.keys())[i]}')\n",
    "    \n",
    "plt.title('Hidden layer weight')\n",
    "plt.ylabel('weight')\n",
    "plt.xlabel('epoch')\n",
    "pyplot.legend(loc='upper right', bbox_to_anchor=(1.3, 1))\n",
    "\n",
    "plt.show()"
   ]
  },
  {
   "cell_type": "markdown",
   "metadata": {},
   "source": [
    "# Assignment 3"
   ]
  },
  {
   "cell_type": "code",
   "execution_count": 66,
   "metadata": {},
   "outputs": [],
   "source": [
    "model_30 = Net(30)"
   ]
  },
  {
   "cell_type": "code",
   "execution_count": 67,
   "metadata": {},
   "outputs": [
    {
     "name": "stderr",
     "output_type": "stream",
     "text": [
      "/Users/hyunwoo/anaconda3/envs/optlab/lib/python3.7/site-packages/torch/nn/functional.py:1569: UserWarning: nn.functional.sigmoid is deprecated. Use torch.sigmoid instead.\n",
      "  warnings.warn(\"nn.functional.sigmoid is deprecated. Use torch.sigmoid instead.\")\n"
     ]
    },
    {
     "name": "stdout",
     "output_type": "stream",
     "text": [
      "10 tensor(3.8657)\n",
      "20 tensor(3.4353)\n",
      "30 tensor(3.1529)\n",
      "40 tensor(2.9456)\n",
      "50 tensor(2.8130)\n",
      "60 tensor(2.6857)\n",
      "70 tensor(2.6331)\n",
      "80 tensor(2.6253)\n",
      "90 tensor(2.5963)\n",
      "100 tensor(2.5087)\n"
     ]
    }
   ],
   "source": [
    "criterion = nn.CrossEntropyLoss()\n",
    "optimizer = optim.SGD(model_30.parameters(), lr=0.3, momentum = 0.3)\n",
    "\n",
    "hidden_weight_l_30 = []\n",
    "for epoch in range(100):\n",
    "    total_loss = 0\n",
    "    \n",
    "    hidden_weight_l_30.append([float(i[0]) for i in model_30.fc2.weight])\n",
    "\n",
    "    for train_x, train_y in train_loader:\n",
    "        # 계산 그래프 구성\n",
    "        train_x, train_y = Variable(train_x), Variable(train_y)\n",
    "        # 경사 초기화\n",
    "        optimizer.zero_grad()\n",
    "        # 순전파 계산\n",
    "        output = model_30(train_x)\n",
    "        # 오차계산\n",
    "        loss = criterion(output, train_y)\n",
    "        # 역전파 계산\n",
    "        loss.backward()\n",
    "        # 가중치 업데이트\n",
    "        optimizer.step()\n",
    "        # 누적 오차 계산\n",
    "        total_loss += loss.data\n",
    "        \n",
    "    if (epoch+1)%10 == 0:\n",
    "        print(epoch+1, total_loss)"
   ]
  },
  {
   "cell_type": "code",
   "execution_count": 68,
   "metadata": {},
   "outputs": [],
   "source": [
    "x_test_1, y_test_1 = Variable(x_test_1), Variable(y_test_1)"
   ]
  },
  {
   "cell_type": "code",
   "execution_count": 69,
   "metadata": {},
   "outputs": [],
   "source": [
    "result = torch.max(model_30(x_test_1).data, 1)[1]"
   ]
  },
  {
   "cell_type": "code",
   "execution_count": 70,
   "metadata": {},
   "outputs": [],
   "source": [
    "accuracy = sum(y_test_1.data.numpy() == result.numpy()) / len(y_test_1.data.numpy())"
   ]
  },
  {
   "cell_type": "code",
   "execution_count": 71,
   "metadata": {},
   "outputs": [
    {
     "data": {
      "text/plain": [
       "0.8705035971223022"
      ]
     },
     "execution_count": 71,
     "metadata": {},
     "output_type": "execute_result"
    }
   ],
   "source": [
    "accuracy"
   ]
  },
  {
   "cell_type": "code",
   "execution_count": null,
   "metadata": {},
   "outputs": [],
   "source": []
  },
  {
   "cell_type": "markdown",
   "metadata": {},
   "source": [
    "### How to select the final network over a number of gradient descent iterations?\n",
    "=> 매 iteration마다 validation set에 대한 accuracy를 확인한다?"
   ]
  },
  {
   "cell_type": "code",
   "execution_count": 81,
   "metadata": {},
   "outputs": [
    {
     "name": "stderr",
     "output_type": "stream",
     "text": [
      "/Users/hyunwoo/anaconda3/envs/optlab/lib/python3.7/site-packages/torch/nn/functional.py:1569: UserWarning: nn.functional.sigmoid is deprecated. Use torch.sigmoid instead.\n",
      "  warnings.warn(\"nn.functional.sigmoid is deprecated. Use torch.sigmoid instead.\")\n"
     ]
    },
    {
     "name": "stdout",
     "output_type": "stream",
     "text": [
      "10 tensor(3.9167)\n",
      "20 tensor(3.6186)\n",
      "30 tensor(3.4569)\n",
      "40 tensor(3.2265)\n",
      "50 tensor(3.0850)\n",
      "60 tensor(2.9652)\n",
      "70 tensor(2.8727)\n",
      "80 tensor(2.7853)\n",
      "90 tensor(2.7618)\n",
      "100 tensor(2.6976)\n",
      "110 tensor(2.6804)\n",
      "120 tensor(2.6444)\n",
      "130 tensor(2.6104)\n",
      "140 tensor(2.6166)\n",
      "150 tensor(2.6198)\n",
      "160 tensor(2.5722)\n",
      "170 tensor(2.5600)\n",
      "180 tensor(2.5744)\n",
      "190 tensor(2.5675)\n",
      "200 tensor(2.5476)\n",
      "210 tensor(2.5350)\n",
      "220 tensor(2.5284)\n",
      "230 tensor(2.5125)\n",
      "240 tensor(2.5387)\n",
      "250 tensor(2.5122)\n",
      "260 tensor(2.5111)\n",
      "270 tensor(2.5129)\n",
      "280 tensor(2.4915)\n",
      "290 tensor(2.4883)\n",
      "300 tensor(2.5253)\n"
     ]
    }
   ],
   "source": [
    "model = Net()\n",
    "\n",
    "criterion = nn.CrossEntropyLoss()\n",
    "optimizer = optim.SGD(model.parameters(), lr=0.3, momentum = 0.3)\n",
    "\n",
    "x_test_1, y_test_1 = Variable(x_test_1), Variable(y_test_1)\n",
    "\n",
    "accuracy_l = []\n",
    "loss_l = []\n",
    "\n",
    "for epoch in range(300):\n",
    "    total_loss = 0\n",
    "    \n",
    "    for train_x, train_y in train_loader:\n",
    "        # 계산 그래프 구성\n",
    "        train_x, train_y = Variable(train_x), Variable(train_y)\n",
    "        # 경사 초기화\n",
    "        optimizer.zero_grad()\n",
    "        # 순전파 계산\n",
    "        output = model(train_x)\n",
    "        # 오차계산\n",
    "        loss = criterion(output, train_y)\n",
    "        # 역전파 계산\n",
    "        loss.backward()\n",
    "        # 가중치 업데이트\n",
    "        optimizer.step()\n",
    "        # 누적 오차 계산\n",
    "        total_loss += loss.data\n",
    "    \n",
    "    result = torch.max(model(x_test_1).data, 1)[1]\n",
    "    accuracy = sum(y_test_1.data.numpy() == result.numpy()) / len(y_test_1.data.numpy())\n",
    "    accuracy_l.append(accuracy)\n",
    "    loss_l.append(total_loss)\n",
    "    \n",
    "    if (epoch+1)%10 == 0:\n",
    "        print(epoch+1, total_loss)"
   ]
  },
  {
   "cell_type": "code",
   "execution_count": 82,
   "metadata": {},
   "outputs": [
    {
     "data": {
      "image/png": "[encoded data removed]",
      "text/plain": [
       "<Figure size 432x288 with 1 Axes>"
      ]
     },
     "metadata": {
      "needs_background": "light"
     },
     "output_type": "display_data"
    }
   ],
   "source": [
    "plt.title('Loss by epoche')\n",
    "plt.ylabel('Loss')\n",
    "plt.xlabel('epoch')\n",
    "plt.plot(loss_l, label='loss')\n",
    "\n",
    "pyplot.legend(loc='upper right', bbox_to_anchor=(1.3, 1))\n",
    "\n",
    "plt.show()"
   ]
  },
  {
   "cell_type": "code",
   "execution_count": 83,
   "metadata": {},
   "outputs": [
    {
     "data": {
      "image/png": "[encoded data removed]",
      "text/plain": [
       "<Figure size 432x288 with 1 Axes>"
      ]
     },
     "metadata": {
      "needs_background": "light"
     },
     "output_type": "display_data"
    }
   ],
   "source": [
    "plt.title('Accuracy by epoche')\n",
    "plt.ylabel('Accuracy')\n",
    "plt.xlabel('epoch')\n",
    "plt.plot(accuracy_l, label='accuracy')\n",
    "\n",
    "pyplot.legend(loc='upper right', bbox_to_anchor=(1.3, 1))\n",
    "\n",
    "plt.show()"
   ]
  },
  {
   "cell_type": "code",
   "execution_count": 84,
   "metadata": {},
   "outputs": [
    {
     "data": {
      "text/plain": [
       "0.7841726618705036"
      ]
     },
     "execution_count": 84,
     "metadata": {},
     "output_type": "execute_result"
    }
   ],
   "source": [
    "max(accuracy_l)"
   ]
  },
  {
   "cell_type": "code",
   "execution_count": null,
   "metadata": {},
   "outputs": [],
   "source": []
  }
 ],
 "metadata": {
  "kernelspec": {
   "display_name": "Python 3",
   "language": "python",
   "name": "python3"
  },
  "language_info": {
   "codemirror_mode": {
    "name": "ipython",
    "version": 3
   },
   "file_extension": ".py",
   "mimetype": "text/x-python",
   "name": "python",
   "nbconvert_exporter": "python",
   "pygments_lexer": "ipython3",
   "version": "3.7.6"
  }
 },
 "nbformat": 4,
 "nbformat_minor": 4
}
