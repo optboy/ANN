{
 "cells": [
  {
   "cell_type": "code",
   "execution_count": 2,
   "metadata": {},
   "outputs": [],
   "source": [
    "from matplotlib import pyplot\n",
    "import matplotlib.pyplot as plt\n",
    "\n",
    "import torch\n",
    "\n",
    "import torch.nn.functional as F\n",
    "import torch.optim as optim\n",
    "\n",
    "from torch import nn\n",
    "from torch.autograd import Variable\n",
    "from torch.utils.data import DataLoader, TensorDataset\n",
    "\n",
    "import numpy as np\n",
    "import pandas as pd\n",
    "\n",
    "import math\n",
    "import cv2\n",
    "import re"
   ]
  },
  {
   "cell_type": "code",
   "execution_count": 3,
   "metadata": {},
   "outputs": [],
   "source": [
    "files = [open('all_train.txt', 'r'), open('all_test1.txt', 'r'), open('all_test2.txt', 'r')]"
   ]
  },
  {
   "cell_type": "code",
   "execution_count": 4,
   "metadata": {},
   "outputs": [],
   "source": [
    "lable_dic = {'straight' : 0, 'up':1, 'left': 2, 'right': 3}\n",
    "\n",
    "X_l = []\n",
    "y_l = []\n",
    "for file in files:\n",
    "    paths = []\n",
    "    y = []\n",
    "    for line in file.readlines():\n",
    "        path = '.'\n",
    "        for s in line[:-1].split('/')[-3:]:\n",
    "            path += '/'+ s\n",
    "        paths.append(path)\n",
    "\n",
    "        lable = line.split('_')[1]\n",
    "        y.append(lable_dic[lable])\n",
    "\n",
    "    x = []\n",
    "    for path in paths:\n",
    "        img = cv2.imread(path, 0).flatten()\n",
    "        x.append(img)\n",
    "    x = np.array(x)\n",
    "    \n",
    "    X_l.append(x)\n",
    "    y_l.append(y)"
   ]
  },
  {
   "cell_type": "code",
   "execution_count": 5,
   "metadata": {},
   "outputs": [],
   "source": [
    "X_t_l = []\n",
    "y_t_l = []\n",
    "for X,y in zip(X_l,y_l):\n",
    "    X_t, y_t = map(torch.tensor, (X, y))\n",
    "    X_t = X_t.type(torch.float)\n",
    "    X_t = X_t/255\n",
    "    y_t = y_t.type(torch.long)\n",
    "    \n",
    "    X_t_l.append(X_t)\n",
    "    y_t_l.append(y_t)"
   ]
  },
  {
   "cell_type": "code",
   "execution_count": 6,
   "metadata": {},
   "outputs": [],
   "source": [
    "x_train, x_test_1, x_test_2 = X_t_l\n",
    "y_train, y_test_1, y_test_2 = y_t_l"
   ]
  },
  {
   "cell_type": "code",
   "execution_count": 7,
   "metadata": {},
   "outputs": [],
   "source": [
    "train = TensorDataset(x_train, y_train)"
   ]
  },
  {
   "cell_type": "code",
   "execution_count": 8,
   "metadata": {},
   "outputs": [],
   "source": [
    "train_loader = DataLoader(train, batch_size=120, shuffle=True)"
   ]
  },
  {
   "cell_type": "code",
   "execution_count": 9,
   "metadata": {},
   "outputs": [],
   "source": [
    "class Net(nn.Module):\n",
    "    def __init__(self, unit=3):\n",
    "        super(Net,self).__init__()\n",
    "        self.fc1 = nn.Linear(960,unit)\n",
    "        self.fc2 = nn.Linear(unit,4)\n",
    "        \n",
    "    def forward(self, x):\n",
    "        x = self.fc1(x)\n",
    "        x = self.fc2(x)\n",
    "        return F.sigmoid(x)\n",
    "    \n",
    "model = Net()"
   ]
  },
  {
   "cell_type": "code",
   "execution_count": 10,
   "metadata": {
    "scrolled": true
   },
   "outputs": [
    {
     "name": "stderr",
     "output_type": "stream",
     "text": [
      "/Users/hyunwoo/anaconda3/envs/optlab/lib/python3.7/site-packages/torch/nn/functional.py:1569: UserWarning: nn.functional.sigmoid is deprecated. Use torch.sigmoid instead.\n",
      "  warnings.warn(\"nn.functional.sigmoid is deprecated. Use torch.sigmoid instead.\")\n"
     ]
    },
    {
     "name": "stdout",
     "output_type": "stream",
     "text": [
      "10 tensor(3.8572)\n",
      "20 tensor(3.5676)\n",
      "30 tensor(3.3242)\n",
      "40 tensor(3.1471)\n",
      "50 tensor(3.0808)\n",
      "60 tensor(2.9861)\n",
      "70 tensor(2.9186)\n",
      "80 tensor(2.8729)\n",
      "90 tensor(2.8417)\n",
      "100 tensor(2.8169)\n"
     ]
    }
   ],
   "source": [
    "criterion = nn.CrossEntropyLoss()\n",
    "optimizer = optim.SGD(model.parameters(), lr=0.3, momentum = 0.3)\n",
    "\n",
    "hidden_weight_l = []\n",
    "for epoch in range(100):\n",
    "    total_loss = 0\n",
    "    \n",
    "    for train_x, train_y in train_loader:\n",
    "        hidden_weight_l.append([float(i[0]) for i in model.fc2.weight])\n",
    "        # 계산 그래프 구성\n",
    "        train_x, train_y = Variable(train_x), Variable(train_y)\n",
    "        # 경사 초기화\n",
    "        optimizer.zero_grad()\n",
    "        # 순전파 계산\n",
    "        output = model(train_x)\n",
    "        # 오차계산\n",
    "        loss = criterion(output, train_y)\n",
    "        # 역전파 계산\n",
    "        loss.backward()\n",
    "        # 가중치 업데이트\n",
    "        optimizer.step()\n",
    "        # 누적 오차 계산\n",
    "        total_loss += loss.data\n",
    "        \n",
    "    if (epoch+1)%10 == 0:\n",
    "        print(epoch+1, total_loss)"
   ]
  },
  {
   "cell_type": "code",
   "execution_count": 11,
   "metadata": {},
   "outputs": [],
   "source": [
    "x_test_1, y_test_1 = Variable(x_test_1), Variable(y_test_1)"
   ]
  },
  {
   "cell_type": "code",
   "execution_count": 12,
   "metadata": {},
   "outputs": [],
   "source": [
    "result = torch.max(model(x_test_1).data, 1)[1]"
   ]
  },
  {
   "cell_type": "code",
   "execution_count": 13,
   "metadata": {},
   "outputs": [
    {
     "data": {
      "text/plain": [
       "torch.Size([139, 960])"
      ]
     },
     "execution_count": 13,
     "metadata": {},
     "output_type": "execute_result"
    }
   ],
   "source": [
    "x_test_1.shape"
   ]
  },
  {
   "cell_type": "code",
   "execution_count": 14,
   "metadata": {},
   "outputs": [
    {
     "data": {
      "text/plain": [
       "tensor([0, 2, 2, 3, 3, 0, 2, 0, 0, 0, 3, 2, 0, 0, 0, 0, 3, 3, 0, 0, 2, 0, 0, 2,\n",
       "        3, 0, 2, 0, 0, 2, 3, 2, 0, 0, 3, 0, 3, 3, 0, 2, 0, 3, 2, 0, 2, 0, 0, 2,\n",
       "        0, 0, 2, 0, 0, 0, 0, 0, 0, 0, 2, 0, 0, 0, 3, 0, 0, 3, 2, 2, 0, 0, 3, 0,\n",
       "        3, 0, 3, 2, 0, 0, 0, 3, 3, 2, 0, 0, 1, 3, 0, 0, 0, 0, 3, 2, 3, 2, 3, 0,\n",
       "        0, 2, 3, 0, 2, 0, 2, 3, 0, 2, 2, 2, 2, 2, 3, 3, 0, 3, 2, 2, 0, 3, 2, 0,\n",
       "        0, 2, 0, 0, 2, 0, 2, 0, 2, 0, 3, 0, 0, 0, 0, 0, 0, 0, 0])"
      ]
     },
     "execution_count": 14,
     "metadata": {},
     "output_type": "execute_result"
    }
   ],
   "source": [
    "result"
   ]
  },
  {
   "cell_type": "code",
   "execution_count": 15,
   "metadata": {
    "scrolled": true
   },
   "outputs": [
    {
     "data": {
      "text/plain": [
       "tensor([1, 1, 2, 3, 3, 0, 2, 0, 0, 1, 3, 2, 0, 0, 0, 1, 3, 1, 0, 0, 2, 1, 1, 2,\n",
       "        3, 1, 2, 0, 0, 2, 3, 1, 1, 0, 1, 0, 3, 3, 1, 2, 0, 3, 2, 0, 1, 1, 1, 2,\n",
       "        0, 2, 0, 1, 1, 1, 0, 0, 0, 1, 2, 0, 1, 1, 3, 0, 1, 3, 2, 2, 1, 1, 3, 1,\n",
       "        3, 1, 3, 2, 0, 1, 0, 3, 3, 2, 1, 1, 0, 3, 0, 1, 1, 0, 3, 2, 3, 2, 3, 1,\n",
       "        1, 2, 3, 0, 2, 0, 2, 3, 0, 2, 2, 2, 2, 2, 3, 3, 0, 3, 2, 2, 1, 3, 2, 0,\n",
       "        1, 2, 0, 0, 2, 1, 2, 0, 2, 0, 3, 0, 1, 0, 1, 0, 1, 0, 1])"
      ]
     },
     "execution_count": 15,
     "metadata": {},
     "output_type": "execute_result"
    }
   ],
   "source": [
    "y_test_1"
   ]
  },
  {
   "cell_type": "markdown",
   "metadata": {},
   "source": [
    "# Assignment 1"
   ]
  },
  {
   "cell_type": "code",
   "execution_count": 16,
   "metadata": {},
   "outputs": [],
   "source": [
    "accuracy = sum(y_test_1.data.numpy() == result.numpy()) / len(y_test_1.data.numpy())"
   ]
  },
  {
   "cell_type": "code",
   "execution_count": 17,
   "metadata": {},
   "outputs": [
    {
     "data": {
      "text/plain": [
       "0.6906474820143885"
      ]
     },
     "execution_count": 17,
     "metadata": {},
     "output_type": "execute_result"
    }
   ],
   "source": [
    "accuracy"
   ]
  },
  {
   "cell_type": "markdown",
   "metadata": {},
   "source": [
    "# Assignment 2"
   ]
  },
  {
   "cell_type": "code",
   "execution_count": null,
   "metadata": {},
   "outputs": [],
   "source": [
    "for i in range(4):\n",
    "    plt.plot([step[i] for step in hidden_weight_l], label=f'{list(lable_dic.keys())[i]}')\n",
    "    \n",
    "plt.title('Hidden layer weight')\n",
    "plt.ylabel('weight')\n",
    "plt.xlabel('epoch')\n",
    "pyplot.legend(loc='upper right', bbox_to_anchor=(1.3, 1))\n",
    "\n",
    "plt.show()"
   ]
  },
  {
   "cell_type": "markdown",
   "metadata": {},
   "source": [
    "# Assignment 3"
   ]
  },
  {
   "cell_type": "code",
   "execution_count": 18,
   "metadata": {},
   "outputs": [],
   "source": [
    "model_30 = Net(30)"
   ]
  },
  {
   "cell_type": "code",
   "execution_count": 19,
   "metadata": {},
   "outputs": [
    {
     "name": "stdout",
     "output_type": "stream",
     "text": [
      "10 tensor(3.8807)\n",
      "20 tensor(3.4312)\n",
      "30 tensor(3.1404)\n",
      "40 tensor(2.9516)\n",
      "50 tensor(2.8137)\n",
      "60 tensor(2.7023)\n",
      "70 tensor(2.6261)\n",
      "80 tensor(2.5952)\n",
      "90 tensor(2.5533)\n",
      "100 tensor(2.5154)\n"
     ]
    }
   ],
   "source": [
    "criterion = nn.CrossEntropyLoss()\n",
    "optimizer = optim.SGD(model_30.parameters(), lr=0.3, momentum = 0.3)\n",
    "\n",
    "for epoch in range(100):\n",
    "    total_loss = 0\n",
    "    \n",
    "    for train_x, train_y in train_loader:\n",
    "        # 계산 그래프 구성\n",
    "        train_x, train_y = Variable(train_x), Variable(train_y)\n",
    "        # 경사 초기화\n",
    "        optimizer.zero_grad()\n",
    "        # 순전파 계산\n",
    "        output = model_30(train_x)\n",
    "        # 오차계산\n",
    "        loss = criterion(output, train_y)\n",
    "        # 역전파 계산\n",
    "        loss.backward()\n",
    "        # 가중치 업데이트\n",
    "        optimizer.step()\n",
    "        # 누적 오차 계산\n",
    "        total_loss += loss.data\n",
    "        \n",
    "    if (epoch+1)%10 == 0:\n",
    "        print(epoch+1, total_loss)"
   ]
  },
  {
   "cell_type": "code",
   "execution_count": 20,
   "metadata": {},
   "outputs": [],
   "source": [
    "x_test_1, y_test_1 = Variable(x_test_1), Variable(y_test_1)"
   ]
  },
  {
   "cell_type": "code",
   "execution_count": 21,
   "metadata": {},
   "outputs": [],
   "source": [
    "result = torch.max(model_30(x_test_1).data, 1)[1]"
   ]
  },
  {
   "cell_type": "code",
   "execution_count": 22,
   "metadata": {},
   "outputs": [],
   "source": [
    "accuracy = sum(y_test_1.data.numpy() == result.numpy()) / len(y_test_1.data.numpy())"
   ]
  },
  {
   "cell_type": "code",
   "execution_count": 23,
   "metadata": {},
   "outputs": [
    {
     "data": {
      "text/plain": [
       "0.8705035971223022"
      ]
     },
     "execution_count": 23,
     "metadata": {},
     "output_type": "execute_result"
    }
   ],
   "source": [
    "accuracy"
   ]
  },
  {
   "cell_type": "code",
   "execution_count": null,
   "metadata": {},
   "outputs": [],
   "source": []
  }
 ],
 "metadata": {
  "kernelspec": {
   "display_name": "Python 3",
   "language": "python",
   "name": "python3"
  },
  "language_info": {
   "codemirror_mode": {
    "name": "ipython",
    "version": 3
   },
   "file_extension": ".py",
   "mimetype": "text/x-python",
   "name": "python",
   "nbconvert_exporter": "python",
   "pygments_lexer": "ipython3",
   "version": "3.7.6"
  }
 },
 "nbformat": 4,
 "nbformat_minor": 4
}
