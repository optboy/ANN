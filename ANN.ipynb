{
 "cells": [
  {
   "cell_type": "code",
   "execution_count": 77,
   "metadata": {},
   "outputs": [],
   "source": [
    "from matplotlib import pyplot\n",
    "import matplotlib.pyplot as plt\n",
    "\n",
    "import torch\n",
    "\n",
    "import torch.nn.functional as F\n",
    "import torch.optim as optim\n",
    "\n",
    "from torch import nn\n",
    "from torch.autograd import Variable\n",
    "from torch.utils.data import DataLoader, TensorDataset\n",
    "\n",
    "import numpy as np\n",
    "import pandas as pd\n",
    "\n",
    "import math\n",
    "import cv2\n",
    "import re"
   ]
  },
  {
   "cell_type": "code",
   "execution_count": 78,
   "metadata": {},
   "outputs": [],
   "source": [
    "files = [open('all_train.txt', 'r'), open('all_test1.txt', 'r'), open('all_test2.txt', 'r')]"
   ]
  },
  {
   "cell_type": "code",
   "execution_count": 79,
   "metadata": {},
   "outputs": [],
   "source": [
    "lable_dic = {'straight' : 0, 'up':1, 'left': 2, 'right': 3}\n",
    "\n",
    "X_l = []\n",
    "y_l = []\n",
    "path_l =[]\n",
    "for file in files:\n",
    "    paths = []\n",
    "    y = []\n",
    "    for line in file.readlines():\n",
    "        path = '.'\n",
    "        for s in line[:-1].split('/')[-3:]:\n",
    "            path += '/'+ s\n",
    "        paths.append(path)\n",
    "\n",
    "        lable = line.split('_')[1]\n",
    "        y.append(lable_dic[lable])\n",
    "    path_l.append(paths)\n",
    "    x = []\n",
    "    for path in paths:\n",
    "        img = cv2.imread(path, 0).flatten()\n",
    "        x.append(img)\n",
    "    x = np.array(x)\n",
    "    \n",
    "    X_l.append(x)\n",
    "    y_l.append(y)\n",
    "    \n",
    "    "
   ]
  },
  {
   "cell_type": "code",
   "execution_count": 80,
   "metadata": {
    "scrolled": true
   },
   "outputs": [
    {
     "data": {
      "text/plain": [
       "<matplotlib.image.AxesImage at 0x13c1a4e50>"
      ]
     },
     "execution_count": 80,
     "metadata": {},
     "output_type": "execute_result"
    },
    {
     "data": {
      "image/png": "[encoded data removed]",
      "text/plain": [
       "<Figure size 432x288 with 1 Axes>"
      ]
     },
     "metadata": {
      "needs_background": "light"
     },
     "output_type": "display_data"
    }
   ],
   "source": [
    "img = cv2.imread(path_l[0][0])\n",
    "plt.imshow(img)"
   ]
  },
  {
   "cell_type": "code",
   "execution_count": 81,
   "metadata": {},
   "outputs": [],
   "source": [
    "X_t_l = []\n",
    "y_t_l = []\n",
    "for X,y in zip(X_l,y_l):\n",
    "    X_t, y_t = map(torch.tensor, (X, y))\n",
    "    X_t = X_t.type(torch.float)\n",
    "    X_t = X_t/255\n",
    "    y_t = y_t.type(torch.long)\n",
    "    \n",
    "    X_t_l.append(X_t)\n",
    "    y_t_l.append(y_t)\n",
    "    \n"
   ]
  },
  {
   "cell_type": "code",
   "execution_count": 82,
   "metadata": {},
   "outputs": [],
   "source": [
    "x_train, x_test_1, x_test_2 = X_t_l\n",
    "y_train, y_test_1, y_test_2 = y_t_l\n",
    "\n"
   ]
  },
  {
   "cell_type": "code",
   "execution_count": 83,
   "metadata": {},
   "outputs": [],
   "source": [
    "train = TensorDataset(x_train, y_train)\n",
    "\n"
   ]
  },
  {
   "cell_type": "code",
   "execution_count": 84,
   "metadata": {},
   "outputs": [],
   "source": [
    "train_loader = DataLoader(train, batch_size=120, shuffle=True)\n",
    "\n"
   ]
  },
  {
   "cell_type": "code",
   "execution_count": 85,
   "metadata": {},
   "outputs": [],
   "source": [
    "class Net(nn.Module):\n",
    "    def __init__(self, unit=3):\n",
    "        super(Net,self).__init__()\n",
    "        self.fc1 = nn.Linear(960,unit)\n",
    "        self.fc2 = nn.Linear(unit,4)\n",
    "        \n",
    "    def forward(self, x):\n",
    "        x = self.fc1(x)\n",
    "        x = self.fc2(x)\n",
    "        return F.sigmoid(x)\n",
    "    \n",
    "model = Net()\n",
    "\n"
   ]
  },
  {
   "cell_type": "code",
   "execution_count": 86,
   "metadata": {
    "scrolled": true
   },
   "outputs": [
    {
     "name": "stderr",
     "output_type": "stream",
     "text": [
      "/Users/hyunwoo/anaconda3/envs/optlab/lib/python3.7/site-packages/torch/nn/functional.py:1569: UserWarning: nn.functional.sigmoid is deprecated. Use torch.sigmoid instead.\n",
      "  warnings.warn(\"nn.functional.sigmoid is deprecated. Use torch.sigmoid instead.\")\n"
     ]
    },
    {
     "name": "stdout",
     "output_type": "stream",
     "text": [
      "10 tensor(3.8263)\n",
      "20 tensor(3.5167)\n",
      "30 tensor(3.2613)\n",
      "40 tensor(3.0609)\n",
      "50 tensor(3.0115)\n",
      "60 tensor(2.8667)\n",
      "70 tensor(2.7883)\n",
      "80 tensor(2.7417)\n",
      "90 tensor(2.6737)\n",
      "100 tensor(2.6330)\n"
     ]
    }
   ],
   "source": [
    "criterion = nn.CrossEntropyLoss()\n",
    "optimizer = optim.SGD(model.parameters(), lr=0.3, momentum = 0.3)\n",
    "\n",
    "hidden_weight_l = []\n",
    "for epoch in range(100):\n",
    "    total_loss = 0\n",
    "    \n",
    "    for train_x, train_y in train_loader:\n",
    "        hidden_weight_l.append([float(i[0]) for i in model.fc2.weight])\n",
    "        # 계산 그래프 구성\n",
    "        train_x, train_y = Variable(train_x), Variable(train_y)\n",
    "        # 경사 초기화\n",
    "        optimizer.zero_grad()\n",
    "        # 순전파 계산\n",
    "        output = model(train_x)\n",
    "        # 오차계산\n",
    "        loss = criterion(output, train_y)\n",
    "        # 역전파 계산\n",
    "        loss.backward()\n",
    "        # 가중치 업데이트\n",
    "        optimizer.step()\n",
    "        # 누적 오차 계산\n",
    "        total_loss += loss.data\n",
    "        \n",
    "    if (epoch+1)%10 == 0:\n",
    "        print(epoch+1, total_loss)\n",
    "        \n",
    "        "
   ]
  },
  {
   "cell_type": "code",
   "execution_count": 87,
   "metadata": {},
   "outputs": [],
   "source": [
    "x_test_1, y_test_1 = Variable(x_test_1), Variable(y_test_1)\n",
    "\n"
   ]
  },
  {
   "cell_type": "code",
   "execution_count": 88,
   "metadata": {},
   "outputs": [],
   "source": [
    "result = torch.max(model(x_test_1).data, 1)[1]\n",
    "\n"
   ]
  },
  {
   "cell_type": "code",
   "execution_count": 89,
   "metadata": {},
   "outputs": [
    {
     "data": {
      "text/plain": [
       "torch.Size([139, 960])"
      ]
     },
     "execution_count": 89,
     "metadata": {},
     "output_type": "execute_result"
    }
   ],
   "source": [
    "x_test_1.shape\n",
    "\n"
   ]
  },
  {
   "cell_type": "code",
   "execution_count": 90,
   "metadata": {},
   "outputs": [
    {
     "data": {
      "text/plain": [
       "tensor([1, 2, 2, 3, 3, 0, 2, 0, 0, 1, 3, 2, 2, 0, 0, 1, 3, 3, 0, 0, 2, 1, 1, 2,\n",
       "        3, 1, 2, 0, 1, 2, 3, 2, 1, 0, 3, 0, 3, 3, 0, 2, 0, 3, 2, 2, 2, 1, 1, 2,\n",
       "        0, 1, 2, 1, 1, 0, 0, 0, 0, 1, 2, 0, 1, 1, 3, 1, 1, 3, 2, 2, 1, 1, 1, 1,\n",
       "        3, 0, 3, 2, 1, 0, 0, 3, 3, 2, 1, 1, 2, 3, 0, 1, 1, 0, 3, 2, 3, 2, 3, 0,\n",
       "        1, 2, 3, 0, 2, 0, 2, 3, 0, 2, 2, 2, 2, 2, 3, 3, 1, 3, 2, 2, 1, 3, 2, 2,\n",
       "        1, 2, 1, 0, 2, 1, 2, 0, 2, 0, 3, 0, 0, 0, 1, 0, 1, 0, 1])"
      ]
     },
     "execution_count": 90,
     "metadata": {},
     "output_type": "execute_result"
    }
   ],
   "source": [
    "result\n",
    "\n"
   ]
  },
  {
   "cell_type": "code",
   "execution_count": 91,
   "metadata": {
    "scrolled": true
   },
   "outputs": [
    {
     "data": {
      "text/plain": [
       "tensor([1, 1, 2, 3, 3, 0, 2, 0, 0, 1, 3, 2, 0, 0, 0, 1, 3, 1, 0, 0, 2, 1, 1, 2,\n",
       "        3, 1, 2, 0, 0, 2, 3, 1, 1, 0, 1, 0, 3, 3, 1, 2, 0, 3, 2, 0, 1, 1, 1, 2,\n",
       "        0, 2, 0, 1, 1, 1, 0, 0, 0, 1, 2, 0, 1, 1, 3, 0, 1, 3, 2, 2, 1, 1, 3, 1,\n",
       "        3, 1, 3, 2, 0, 1, 0, 3, 3, 2, 1, 1, 0, 3, 0, 1, 1, 0, 3, 2, 3, 2, 3, 1,\n",
       "        1, 2, 3, 0, 2, 0, 2, 3, 0, 2, 2, 2, 2, 2, 3, 3, 0, 3, 2, 2, 1, 3, 2, 0,\n",
       "        1, 2, 0, 0, 2, 1, 2, 0, 2, 0, 3, 0, 1, 0, 1, 0, 1, 0, 1])"
      ]
     },
     "execution_count": 91,
     "metadata": {},
     "output_type": "execute_result"
    }
   ],
   "source": [
    "y_test_1\n",
    "\n"
   ]
  },
  {
   "cell_type": "markdown",
   "metadata": {},
   "source": [
    "# Assignment 1"
   ]
  },
  {
   "cell_type": "code",
   "execution_count": 92,
   "metadata": {},
   "outputs": [],
   "source": [
    "accuracy = sum(y_test_1.data.numpy() == result.numpy()) / len(y_test_1.data.numpy())\n",
    "\n"
   ]
  },
  {
   "cell_type": "code",
   "execution_count": 93,
   "metadata": {},
   "outputs": [
    {
     "data": {
      "text/plain": [
       "0.8345323741007195"
      ]
     },
     "execution_count": 93,
     "metadata": {},
     "output_type": "execute_result"
    }
   ],
   "source": [
    "accuracy\n"
   ]
  },
  {
   "cell_type": "markdown",
   "metadata": {},
   "source": [
    "# Assignment 2"
   ]
  },
  {
   "cell_type": "code",
   "execution_count": 94,
   "metadata": {},
   "outputs": [
    {
     "data": {
      "image/png": "[encoded data removed]",
      "text/plain": [
       "<Figure size 432x288 with 1 Axes>"
      ]
     },
     "metadata": {
      "needs_background": "light"
     },
     "output_type": "display_data"
    }
   ],
   "source": [
    "for i in range(4):\n",
    "    plt.plot([step[i] for step in hidden_weight_l], label=f'{list(lable_dic.keys())[i]}')\n",
    "    \n",
    "plt.title('Hidden layer weight')\n",
    "plt.ylabel('weight')\n",
    "plt.xlabel('epoch')\n",
    "pyplot.legend(loc='upper right', bbox_to_anchor=(1.3, 1))\n",
    "\n",
    "plt.show()\n",
    "\n"
   ]
  },
  {
   "cell_type": "markdown",
   "metadata": {},
   "source": [
    "# Assignment 3"
   ]
  },
  {
   "cell_type": "code",
   "execution_count": 95,
   "metadata": {},
   "outputs": [],
   "source": [
    "model_30 = Net(30)\n",
    "\n"
   ]
  },
  {
   "cell_type": "code",
   "execution_count": 96,
   "metadata": {},
   "outputs": [
    {
     "name": "stderr",
     "output_type": "stream",
     "text": [
      "/Users/hyunwoo/anaconda3/envs/optlab/lib/python3.7/site-packages/torch/nn/functional.py:1569: UserWarning: nn.functional.sigmoid is deprecated. Use torch.sigmoid instead.\n",
      "  warnings.warn(\"nn.functional.sigmoid is deprecated. Use torch.sigmoid instead.\")\n"
     ]
    },
    {
     "name": "stdout",
     "output_type": "stream",
     "text": [
      "10 tensor(3.8941)\n",
      "20 tensor(3.4956)\n",
      "30 tensor(3.1821)\n",
      "40 tensor(2.9450)\n",
      "50 tensor(2.8461)\n",
      "60 tensor(2.7440)\n",
      "70 tensor(2.6196)\n",
      "80 tensor(2.5866)\n",
      "90 tensor(2.5773)\n",
      "100 tensor(2.5021)\n"
     ]
    }
   ],
   "source": [
    "criterion = nn.CrossEntropyLoss()\n",
    "optimizer = optim.SGD(model_30.parameters(), lr=0.3, momentum = 0.3)\n",
    "\n",
    "hidden_weight_l_30 = []\n",
    "for epoch in range(100):\n",
    "    total_loss = 0\n",
    "    \n",
    "    hidden_weight_l_30.append([float(i[0]) for i in model_30.fc2.weight])\n",
    "\n",
    "    for train_x, train_y in train_loader:\n",
    "        # 계산 그래프 구성\n",
    "        train_x, train_y = Variable(train_x), Variable(train_y)\n",
    "        # 경사 초기화\n",
    "        optimizer.zero_grad()\n",
    "        # 순전파 계산\n",
    "        output = model_30(train_x)\n",
    "        # 오차계산\n",
    "        loss = criterion(output, train_y)\n",
    "        # 역전파 계산\n",
    "        loss.backward()\n",
    "        # 가중치 업데이트\n",
    "        optimizer.step()\n",
    "        # 누적 오차 계산\n",
    "        total_loss += loss.data\n",
    "        \n",
    "    if (epoch+1)%10 == 0:\n",
    "        print(epoch+1, total_loss)\n",
    "        \n",
    "        "
   ]
  },
  {
   "cell_type": "code",
   "execution_count": 97,
   "metadata": {},
   "outputs": [],
   "source": [
    "x_test_1, y_test_1 = Variable(x_test_1), Variable(y_test_1)\n",
    "\n"
   ]
  },
  {
   "cell_type": "code",
   "execution_count": 98,
   "metadata": {},
   "outputs": [],
   "source": [
    "result = torch.max(model_30(x_test_1).data, 1)[1]\n",
    "\n"
   ]
  },
  {
   "cell_type": "code",
   "execution_count": 99,
   "metadata": {},
   "outputs": [],
   "source": [
    "accuracy = sum(y_test_1.data.numpy() == result.numpy()) / len(y_test_1.data.numpy())\n",
    "\n"
   ]
  },
  {
   "cell_type": "code",
   "execution_count": 100,
   "metadata": {},
   "outputs": [
    {
     "data": {
      "text/plain": [
       "0.8848920863309353"
      ]
     },
     "execution_count": 100,
     "metadata": {},
     "output_type": "execute_result"
    }
   ],
   "source": [
    "accuracy\n",
    "\n"
   ]
  },
  {
   "cell_type": "code",
   "execution_count": null,
   "metadata": {},
   "outputs": [],
   "source": []
  },
  {
   "cell_type": "markdown",
   "metadata": {},
   "source": [
    "### How to select the final network over a number of gradient descent iterations?\n",
    "=> 매 iteration마다 validation set에 대한 accuracy를 확인한다?"
   ]
  },
  {
   "cell_type": "code",
   "execution_count": 109,
   "metadata": {},
   "outputs": [
    {
     "name": "stderr",
     "output_type": "stream",
     "text": [
      "/Users/hyunwoo/anaconda3/envs/optlab/lib/python3.7/site-packages/torch/nn/functional.py:1569: UserWarning: nn.functional.sigmoid is deprecated. Use torch.sigmoid instead.\n",
      "  warnings.warn(\"nn.functional.sigmoid is deprecated. Use torch.sigmoid instead.\")\n"
     ]
    },
    {
     "name": "stdout",
     "output_type": "stream",
     "text": [
      "10 tensor(3.8691)\n",
      "20 tensor(3.4930)\n",
      "30 tensor(3.2631)\n",
      "40 tensor(3.1081)\n",
      "50 tensor(2.9722)\n",
      "60 tensor(2.8791)\n",
      "70 tensor(2.7962)\n",
      "80 tensor(2.7718)\n",
      "90 tensor(2.7235)\n",
      "100 tensor(2.7044)\n",
      "110 tensor(2.6837)\n",
      "120 tensor(2.6685)\n",
      "130 tensor(2.6228)\n",
      "140 tensor(2.6437)\n",
      "150 tensor(2.5786)\n",
      "160 tensor(2.5764)\n",
      "170 tensor(2.5761)\n",
      "180 tensor(2.5883)\n",
      "190 tensor(2.5290)\n",
      "200 tensor(2.5377)\n",
      "210 tensor(2.5194)\n",
      "220 tensor(2.5064)\n",
      "230 tensor(2.4771)\n",
      "240 tensor(2.4726)\n",
      "250 tensor(2.4689)\n",
      "260 tensor(2.4440)\n",
      "270 tensor(2.4566)\n",
      "280 tensor(2.4018)\n",
      "290 tensor(2.3986)\n",
      "300 tensor(2.3747)\n"
     ]
    }
   ],
   "source": [
    "model = Net()\n",
    "\n",
    "criterion = nn.CrossEntropyLoss()\n",
    "optimizer = optim.SGD(model.parameters(), lr=0.3, momentum = 0.3)\n",
    "\n",
    "x_test_1, y_test_1 = Variable(x_test_1), Variable(y_test_1)\n",
    "\n",
    "accuracy_l = []\n",
    "loss_l = []\n",
    "\n",
    "for epoch in range(300):\n",
    "    total_loss = 0\n",
    "    \n",
    "    for train_x, train_y in train_loader:\n",
    "        # 계산 그래프 구성\n",
    "        train_x, train_y = Variable(train_x), Variable(train_y)\n",
    "        # 경사 초기화\n",
    "        optimizer.zero_grad()\n",
    "        # 순전파 계산\n",
    "        output = model(train_x)\n",
    "        # 오차계산\n",
    "        loss = criterion(output, train_y)\n",
    "        # 역전파 계산\n",
    "        loss.backward()\n",
    "        # 가중치 업데이트\n",
    "        optimizer.step()\n",
    "        # 누적 오차 계산\n",
    "        total_loss += loss.data\n",
    "    \n",
    "    result = torch.max(model(x_test_1).data, 1)[1]\n",
    "    accuracy = sum(y_test_1.data.numpy() == result.numpy()) / len(y_test_1.data.numpy())\n",
    "    accuracy_l.append(accuracy)\n",
    "    loss_l.append(total_loss)\n",
    "    \n",
    "    if (epoch+1)%10 == 0:\n",
    "        print(epoch+1, total_loss)"
   ]
  },
  {
   "cell_type": "code",
   "execution_count": 110,
   "metadata": {},
   "outputs": [
    {
     "data": {
      "image/png": "[encoded data removed]",
      "text/plain": [
       "<Figure size 432x288 with 1 Axes>"
      ]
     },
     "metadata": {
      "needs_background": "light"
     },
     "output_type": "display_data"
    }
   ],
   "source": [
    "plt.title('Loss by epoche')\n",
    "plt.ylabel('Loss')\n",
    "plt.xlabel('epoch')\n",
    "plt.plot(loss_l, label='loss')\n",
    "\n",
    "pyplot.legend(loc='upper right', bbox_to_anchor=(1.3, 1))\n",
    "\n",
    "plt.show()\n"
   ]
  },
  {
   "cell_type": "code",
   "execution_count": 111,
   "metadata": {},
   "outputs": [
    {
     "data": {
      "image/png": "[encoded data removed]",
      "text/plain": [
       "<Figure size 432x288 with 1 Axes>"
      ]
     },
     "metadata": {
      "needs_background": "light"
     },
     "output_type": "display_data"
    }
   ],
   "source": [
    "plt.title('Accuracy by epoche')\n",
    "plt.ylabel('Accuracy')\n",
    "plt.xlabel('epoch')\n",
    "plt.plot(accuracy_l, label='accuracy')\n",
    "\n",
    "pyplot.legend(loc='upper right', bbox_to_anchor=(1.3, 1))\n",
    "\n",
    "plt.show()"
   ]
  },
  {
   "cell_type": "code",
   "execution_count": 112,
   "metadata": {},
   "outputs": [
    {
     "data": {
      "text/plain": [
       "0.8920863309352518"
      ]
     },
     "execution_count": 112,
     "metadata": {},
     "output_type": "execute_result"
    }
   ],
   "source": [
    "max(accuracy_l)\n"
   ]
  },
  {
   "cell_type": "code",
   "execution_count": null,
   "metadata": {},
   "outputs": [],
   "source": []
  }
 ],
 "metadata": {
  "kernelspec": {
   "display_name": "Python 3",
   "language": "python",
   "name": "python3"
  },
  "language_info": {
   "codemirror_mode": {
    "name": "ipython",
    "version": 3
   },
   "file_extension": ".py",
   "mimetype": "text/x-python",
   "name": "python",
   "nbconvert_exporter": "python",
   "pygments_lexer": "ipython3",
   "version": "3.7.6"
  }
 },
 "nbformat": 4,
 "nbformat_minor": 4
}
